{
 "cells": [
  {
   "cell_type": "code",
   "execution_count": 1,
   "id": "f11e66e7",
   "metadata": {
    "_cell_guid": "b1076dfc-b9ad-4769-8c92-a6c4dae69d19",
    "_uuid": "8f2839f25d086af736a60e9eeb907d3b93b6e0e5",
    "execution": {
     "iopub.execute_input": "2023-03-13T21:59:12.315267Z",
     "iopub.status.busy": "2023-03-13T21:59:12.314917Z",
     "iopub.status.idle": "2023-03-13T21:59:12.331738Z",
     "shell.execute_reply": "2023-03-13T21:59:12.330449Z"
    },
    "papermill": {
     "duration": 0.028456,
     "end_time": "2023-03-13T21:59:12.333933",
     "exception": false,
     "start_time": "2023-03-13T21:59:12.305477",
     "status": "completed"
    },
    "tags": []
   },
   "outputs": [
    {
     "name": "stdout",
     "output_type": "stream",
     "text": [
      "/kaggle/input/audiobooksdata/Audiobooks_data.csv\n"
     ]
    }
   ],
   "source": [
    "# This Python 3 environment comes with many helpful analytics libraries installed\n",
    "# It is defined by the kaggle/python Docker image: https://github.com/kaggle/docker-python\n",
    "# For example, here's several helpful packages to load\n",
    "\n",
    "import numpy as np # linear algebra\n",
    "import pandas as pd # data processing, CSV file I/O (e.g. pd.read_csv)\n",
    "\n",
    "# Input data files are available in the read-only \"../input/\" directory\n",
    "# For example, running this (by clicking run or pressing Shift+Enter) will list all files under the input directory\n",
    "\n",
    "import os\n",
    "for dirname, _, filenames in os.walk('/kaggle/input'):\n",
    "    for filename in filenames:\n",
    "        print(os.path.join(dirname, filename))\n",
    "\n",
    "# You can write up to 20GB to the current directory (/kaggle/working/) that gets preserved as output when you create a version using \"Save & Run All\" \n",
    "# You can also write temporary files to /kaggle/temp/, but they won't be saved outside of the current session"
   ]
  },
  {
   "cell_type": "markdown",
   "id": "ce9e5dda",
   "metadata": {
    "papermill": {
     "duration": 0.005771,
     "end_time": "2023-03-13T21:59:12.346466",
     "exception": false,
     "start_time": "2023-03-13T21:59:12.340695",
     "status": "completed"
    },
    "tags": []
   },
   "source": [
    "# In this Notebook we're going to Explore a 2 Years (and an Half for Targets) DataSet containing Informations of an AudioBooks Selling Company, and build a Predictive Model for Forecasting wether an Existing Customers is likely to purchase AudioBooks again through this platform or not, during the following 6 Months since the end of the Data Collection Period."
   ]
  },
  {
   "cell_type": "markdown",
   "id": "68a1e049",
   "metadata": {
    "papermill": {
     "duration": 0.005777,
     "end_time": "2023-03-13T21:59:12.358441",
     "exception": false,
     "start_time": "2023-03-13T21:59:12.352664",
     "status": "completed"
    },
    "tags": []
   },
   "source": [
    "# Basics"
   ]
  },
  {
   "cell_type": "markdown",
   "id": "52e3cefe",
   "metadata": {
    "papermill": {
     "duration": 0.005703,
     "end_time": "2023-03-13T21:59:12.370148",
     "exception": false,
     "start_time": "2023-03-13T21:59:12.364445",
     "status": "completed"
    },
    "tags": []
   },
   "source": [
    "* **Importing the Libraries.**"
   ]
  },
  {
   "cell_type": "code",
   "execution_count": 2,
   "id": "d16c2b1d",
   "metadata": {
    "execution": {
     "iopub.execute_input": "2023-03-13T21:59:12.384055Z",
     "iopub.status.busy": "2023-03-13T21:59:12.383251Z",
     "iopub.status.idle": "2023-03-13T21:59:12.390073Z",
     "shell.execute_reply": "2023-03-13T21:59:12.388689Z"
    },
    "papermill": {
     "duration": 0.016482,
     "end_time": "2023-03-13T21:59:12.392654",
     "exception": false,
     "start_time": "2023-03-13T21:59:12.376172",
     "status": "completed"
    },
    "tags": []
   },
   "outputs": [],
   "source": [
    "import pandas as pd\n",
    "import numpy as np\n",
    "import matplotlib.pyplot as plt\n",
    "\n",
    "%matplotlib inline"
   ]
  },
  {
   "cell_type": "markdown",
   "id": "c38f9453",
   "metadata": {
    "papermill": {
     "duration": 0.005733,
     "end_time": "2023-03-13T21:59:12.404839",
     "exception": false,
     "start_time": "2023-03-13T21:59:12.399106",
     "status": "completed"
    },
    "tags": []
   },
   "source": [
    "* **Importing the DataSet.**"
   ]
  },
  {
   "cell_type": "code",
   "execution_count": 3,
   "id": "b8de7129",
   "metadata": {
    "execution": {
     "iopub.execute_input": "2023-03-13T21:59:12.418414Z",
     "iopub.status.busy": "2023-03-13T21:59:12.418007Z",
     "iopub.status.idle": "2023-03-13T21:59:12.455315Z",
     "shell.execute_reply": "2023-03-13T21:59:12.453769Z"
    },
    "papermill": {
     "duration": 0.047833,
     "end_time": "2023-03-13T21:59:12.458618",
     "exception": false,
     "start_time": "2023-03-13T21:59:12.410785",
     "status": "completed"
    },
    "tags": []
   },
   "outputs": [],
   "source": [
    "df = pd.read_csv(\"/kaggle/input/audiobooksdata/Audiobooks_data.csv\")"
   ]
  },
  {
   "cell_type": "code",
   "execution_count": 4,
   "id": "aa3dbc0a",
   "metadata": {
    "execution": {
     "iopub.execute_input": "2023-03-13T21:59:12.474276Z",
     "iopub.status.busy": "2023-03-13T21:59:12.473411Z",
     "iopub.status.idle": "2023-03-13T21:59:12.506730Z",
     "shell.execute_reply": "2023-03-13T21:59:12.505945Z"
    },
    "papermill": {
     "duration": 0.042519,
     "end_time": "2023-03-13T21:59:12.508426",
     "exception": false,
     "start_time": "2023-03-13T21:59:12.465907",
     "status": "completed"
    },
    "tags": []
   },
   "outputs": [
    {
     "data": {
      "text/html": [
       "<div>\n",
       "<style scoped>\n",
       "    .dataframe tbody tr th:only-of-type {\n",
       "        vertical-align: middle;\n",
       "    }\n",
       "\n",
       "    .dataframe tbody tr th {\n",
       "        vertical-align: top;\n",
       "    }\n",
       "\n",
       "    .dataframe thead th {\n",
       "        text-align: right;\n",
       "    }\n",
       "</style>\n",
       "<table border=\"1\" class=\"dataframe\">\n",
       "  <thead>\n",
       "    <tr style=\"text-align: right;\">\n",
       "      <th></th>\n",
       "      <th>ID</th>\n",
       "      <th>BookLength(mins)Overall</th>\n",
       "      <th>BookLength(mins)Avg</th>\n",
       "      <th>PriceOverall</th>\n",
       "      <th>PriceAvg</th>\n",
       "      <th>Review</th>\n",
       "      <th>Review10/10</th>\n",
       "      <th>MinutesListened</th>\n",
       "      <th>Completion</th>\n",
       "      <th>SupportRequests</th>\n",
       "      <th>LastVisitedMinusPurchaseDate</th>\n",
       "      <th>Targets</th>\n",
       "    </tr>\n",
       "  </thead>\n",
       "  <tbody>\n",
       "    <tr>\n",
       "      <th>0</th>\n",
       "      <td>873</td>\n",
       "      <td>2160.0</td>\n",
       "      <td>2160</td>\n",
       "      <td>10.13</td>\n",
       "      <td>10.13</td>\n",
       "      <td>0</td>\n",
       "      <td>8.91</td>\n",
       "      <td>0.00</td>\n",
       "      <td>0.0</td>\n",
       "      <td>0</td>\n",
       "      <td>0</td>\n",
       "      <td>1</td>\n",
       "    </tr>\n",
       "    <tr>\n",
       "      <th>1</th>\n",
       "      <td>611</td>\n",
       "      <td>1404.0</td>\n",
       "      <td>2808</td>\n",
       "      <td>6.66</td>\n",
       "      <td>13.33</td>\n",
       "      <td>1</td>\n",
       "      <td>6.50</td>\n",
       "      <td>0.00</td>\n",
       "      <td>0.0</td>\n",
       "      <td>0</td>\n",
       "      <td>182</td>\n",
       "      <td>1</td>\n",
       "    </tr>\n",
       "    <tr>\n",
       "      <th>2</th>\n",
       "      <td>705</td>\n",
       "      <td>324.0</td>\n",
       "      <td>324</td>\n",
       "      <td>10.13</td>\n",
       "      <td>10.13</td>\n",
       "      <td>1</td>\n",
       "      <td>9.00</td>\n",
       "      <td>0.00</td>\n",
       "      <td>0.0</td>\n",
       "      <td>1</td>\n",
       "      <td>334</td>\n",
       "      <td>1</td>\n",
       "    </tr>\n",
       "    <tr>\n",
       "      <th>3</th>\n",
       "      <td>391</td>\n",
       "      <td>1620.0</td>\n",
       "      <td>1620</td>\n",
       "      <td>15.31</td>\n",
       "      <td>15.31</td>\n",
       "      <td>0</td>\n",
       "      <td>9.00</td>\n",
       "      <td>0.00</td>\n",
       "      <td>0.0</td>\n",
       "      <td>0</td>\n",
       "      <td>183</td>\n",
       "      <td>1</td>\n",
       "    </tr>\n",
       "    <tr>\n",
       "      <th>4</th>\n",
       "      <td>819</td>\n",
       "      <td>432.0</td>\n",
       "      <td>1296</td>\n",
       "      <td>7.11</td>\n",
       "      <td>21.33</td>\n",
       "      <td>1</td>\n",
       "      <td>9.00</td>\n",
       "      <td>0.00</td>\n",
       "      <td>0.0</td>\n",
       "      <td>0</td>\n",
       "      <td>0</td>\n",
       "      <td>1</td>\n",
       "    </tr>\n",
       "    <tr>\n",
       "      <th>...</th>\n",
       "      <td>...</td>\n",
       "      <td>...</td>\n",
       "      <td>...</td>\n",
       "      <td>...</td>\n",
       "      <td>...</td>\n",
       "      <td>...</td>\n",
       "      <td>...</td>\n",
       "      <td>...</td>\n",
       "      <td>...</td>\n",
       "      <td>...</td>\n",
       "      <td>...</td>\n",
       "      <td>...</td>\n",
       "    </tr>\n",
       "    <tr>\n",
       "      <th>14079</th>\n",
       "      <td>27398</td>\n",
       "      <td>2160.0</td>\n",
       "      <td>2160</td>\n",
       "      <td>7.99</td>\n",
       "      <td>7.99</td>\n",
       "      <td>0</td>\n",
       "      <td>8.91</td>\n",
       "      <td>0.00</td>\n",
       "      <td>0.0</td>\n",
       "      <td>0</td>\n",
       "      <td>54</td>\n",
       "      <td>0</td>\n",
       "    </tr>\n",
       "    <tr>\n",
       "      <th>14080</th>\n",
       "      <td>28220</td>\n",
       "      <td>1620.0</td>\n",
       "      <td>1620</td>\n",
       "      <td>5.33</td>\n",
       "      <td>5.33</td>\n",
       "      <td>1</td>\n",
       "      <td>9.00</td>\n",
       "      <td>0.61</td>\n",
       "      <td>0.0</td>\n",
       "      <td>0</td>\n",
       "      <td>4</td>\n",
       "      <td>0</td>\n",
       "    </tr>\n",
       "    <tr>\n",
       "      <th>14081</th>\n",
       "      <td>28671</td>\n",
       "      <td>1080.0</td>\n",
       "      <td>1080</td>\n",
       "      <td>6.55</td>\n",
       "      <td>6.55</td>\n",
       "      <td>1</td>\n",
       "      <td>6.00</td>\n",
       "      <td>0.29</td>\n",
       "      <td>0.0</td>\n",
       "      <td>0</td>\n",
       "      <td>29</td>\n",
       "      <td>0</td>\n",
       "    </tr>\n",
       "    <tr>\n",
       "      <th>14082</th>\n",
       "      <td>31134</td>\n",
       "      <td>2160.0</td>\n",
       "      <td>2160</td>\n",
       "      <td>6.14</td>\n",
       "      <td>6.14</td>\n",
       "      <td>0</td>\n",
       "      <td>8.91</td>\n",
       "      <td>0.00</td>\n",
       "      <td>0.0</td>\n",
       "      <td>0</td>\n",
       "      <td>0</td>\n",
       "      <td>0</td>\n",
       "    </tr>\n",
       "    <tr>\n",
       "      <th>14083</th>\n",
       "      <td>32832</td>\n",
       "      <td>1620.0</td>\n",
       "      <td>1620</td>\n",
       "      <td>5.33</td>\n",
       "      <td>5.33</td>\n",
       "      <td>1</td>\n",
       "      <td>8.00</td>\n",
       "      <td>0.38</td>\n",
       "      <td>0.0</td>\n",
       "      <td>0</td>\n",
       "      <td>90</td>\n",
       "      <td>0</td>\n",
       "    </tr>\n",
       "  </tbody>\n",
       "</table>\n",
       "<p>14084 rows × 12 columns</p>\n",
       "</div>"
      ],
      "text/plain": [
       "          ID  BookLength(mins)Overall  BookLength(mins)Avg  PriceOverall  \\\n",
       "0        873                   2160.0                 2160         10.13   \n",
       "1        611                   1404.0                 2808          6.66   \n",
       "2        705                    324.0                  324         10.13   \n",
       "3        391                   1620.0                 1620         15.31   \n",
       "4        819                    432.0                 1296          7.11   \n",
       "...      ...                      ...                  ...           ...   \n",
       "14079  27398                   2160.0                 2160          7.99   \n",
       "14080  28220                   1620.0                 1620          5.33   \n",
       "14081  28671                   1080.0                 1080          6.55   \n",
       "14082  31134                   2160.0                 2160          6.14   \n",
       "14083  32832                   1620.0                 1620          5.33   \n",
       "\n",
       "       PriceAvg  Review  Review10/10  MinutesListened  Completion  \\\n",
       "0         10.13       0         8.91             0.00         0.0   \n",
       "1         13.33       1         6.50             0.00         0.0   \n",
       "2         10.13       1         9.00             0.00         0.0   \n",
       "3         15.31       0         9.00             0.00         0.0   \n",
       "4         21.33       1         9.00             0.00         0.0   \n",
       "...         ...     ...          ...              ...         ...   \n",
       "14079      7.99       0         8.91             0.00         0.0   \n",
       "14080      5.33       1         9.00             0.61         0.0   \n",
       "14081      6.55       1         6.00             0.29         0.0   \n",
       "14082      6.14       0         8.91             0.00         0.0   \n",
       "14083      5.33       1         8.00             0.38         0.0   \n",
       "\n",
       "       SupportRequests  LastVisitedMinusPurchaseDate  Targets  \n",
       "0                    0                             0        1  \n",
       "1                    0                           182        1  \n",
       "2                    1                           334        1  \n",
       "3                    0                           183        1  \n",
       "4                    0                             0        1  \n",
       "...                ...                           ...      ...  \n",
       "14079                0                            54        0  \n",
       "14080                0                             4        0  \n",
       "14081                0                            29        0  \n",
       "14082                0                             0        0  \n",
       "14083                0                            90        0  \n",
       "\n",
       "[14084 rows x 12 columns]"
      ]
     },
     "execution_count": 4,
     "metadata": {},
     "output_type": "execute_result"
    }
   ],
   "source": [
    "df"
   ]
  },
  {
   "cell_type": "markdown",
   "id": "7634abb8",
   "metadata": {
    "papermill": {
     "duration": 0.006028,
     "end_time": "2023-03-13T21:59:12.520989",
     "exception": false,
     "start_time": "2023-03-13T21:59:12.514961",
     "status": "completed"
    },
    "tags": []
   },
   "source": [
    "# DataSet Description:\n",
    "\n",
    "* **ID**\n",
    "\n",
    "Numerical; the Customer ID.\n",
    "\n",
    "* **BookLength(mins)Overall**\n",
    "\n",
    "Numerical; Sum of the AudioBooks Length of all Purchases.\n",
    "\n",
    "* **BookLength(mins)Avg**\n",
    "\n",
    "Numerical; Average Length of AudioBooks Lengths.\n",
    "\n",
    "* **PriceOverall**\n",
    "\n",
    "Numerical; Sum of the Price Paid for all the AudioBooks.\n",
    "\n",
    "* **PriceAvg**\n",
    "\n",
    "Numerical; Average Price of AudioBooks Prices.\n",
    "\n",
    "* **Review**\n",
    "\n",
    "Boolean; Wether the Customer left a Review or not. (1 Yes / 0 No)\n",
    "\n",
    "* **Review10/10**\n",
    "\n",
    "Numerical; Average Review of a Customer, if Above the Status Quo (8.91) then it's a Positive Review Feeling.\n",
    "\n",
    "* **MinutesListened**\n",
    "\n",
    "Numerical; Total Minutes Listened of AudioBooks.\n",
    "\n",
    "* **Completion**\n",
    "\n",
    "Numerical; Total Minutes Listened Divided by the Book Length in Minutes Overall. (Floating from 0 to 1 and can be converted as a Percentage -> 1 == 100%)\n",
    "\n",
    "* **SupportRequests**\n",
    "\n",
    "Numerical; Number of Times the Customer contacted the Support.\n",
    "\n",
    "* **LastVisitedMinusPurchaseDate**\n",
    "\n",
    "Numerical; The Last Visited session minus the First Purchase Date in Minutes, the higher the Number, the Better, since it means the Customer is actively using the Platform.\n",
    "\n",
    "* **Targets**\n",
    "\n",
    "Boolean; Wether the Customer Purchased another AudioBook in the Following 6 Months After the Data Gathering Period of 2 Years. (1 Yes / 0 No)"
   ]
  },
  {
   "cell_type": "markdown",
   "id": "8507e463",
   "metadata": {
    "papermill": {
     "duration": 0.005952,
     "end_time": "2023-03-13T21:59:12.533498",
     "exception": false,
     "start_time": "2023-03-13T21:59:12.527546",
     "status": "completed"
    },
    "tags": []
   },
   "source": [
    "# Data PreProcessing"
   ]
  },
  {
   "cell_type": "markdown",
   "id": "f75f81ec",
   "metadata": {
    "papermill": {
     "duration": 0.005931,
     "end_time": "2023-03-13T21:59:12.545726",
     "exception": false,
     "start_time": "2023-03-13T21:59:12.539795",
     "status": "completed"
    },
    "tags": []
   },
   "source": [
    "* **Preparing the DataSet.**"
   ]
  },
  {
   "cell_type": "code",
   "execution_count": 5,
   "id": "0fb6abee",
   "metadata": {
    "execution": {
     "iopub.execute_input": "2023-03-13T21:59:12.559915Z",
     "iopub.status.busy": "2023-03-13T21:59:12.559312Z",
     "iopub.status.idle": "2023-03-13T21:59:12.569615Z",
     "shell.execute_reply": "2023-03-13T21:59:12.568741Z"
    },
    "papermill": {
     "duration": 0.019955,
     "end_time": "2023-03-13T21:59:12.571754",
     "exception": false,
     "start_time": "2023-03-13T21:59:12.551799",
     "status": "completed"
    },
    "tags": []
   },
   "outputs": [],
   "source": [
    "AllAsArray = np.asarray(df.drop([\"ID\"], axis = 1))\n",
    "\n",
    "Inputs = np.asarray(df.drop([\"ID\", \"Targets\"], axis = 1))\n",
    "\n",
    "Targets = np.asarray(df[\"Targets\"])"
   ]
  },
  {
   "cell_type": "markdown",
   "id": "cec4ce17",
   "metadata": {
    "papermill": {
     "duration": 0.005924,
     "end_time": "2023-03-13T21:59:12.583993",
     "exception": false,
     "start_time": "2023-03-13T21:59:12.578069",
     "status": "completed"
    },
    "tags": []
   },
   "source": [
    "* **Balancing the DataSet.**"
   ]
  },
  {
   "cell_type": "code",
   "execution_count": 6,
   "id": "2d776d93",
   "metadata": {
    "execution": {
     "iopub.execute_input": "2023-03-13T21:59:12.597521Z",
     "iopub.status.busy": "2023-03-13T21:59:12.597044Z",
     "iopub.status.idle": "2023-03-13T21:59:12.601258Z",
     "shell.execute_reply": "2023-03-13T21:59:12.600407Z"
    },
    "papermill": {
     "duration": 0.012998,
     "end_time": "2023-03-13T21:59:12.603023",
     "exception": false,
     "start_time": "2023-03-13T21:59:12.590025",
     "status": "completed"
    },
    "tags": []
   },
   "outputs": [],
   "source": [
    "#Getting Number of 0s and 1s.\n",
    "\n",
    "TargetsOnes = int(np.count_nonzero(Targets))\n",
    "TargetsZeros = len(Targets) - TargetsOnes"
   ]
  },
  {
   "cell_type": "code",
   "execution_count": 7,
   "id": "58d02bb9",
   "metadata": {
    "execution": {
     "iopub.execute_input": "2023-03-13T21:59:12.616373Z",
     "iopub.status.busy": "2023-03-13T21:59:12.616112Z",
     "iopub.status.idle": "2023-03-13T21:59:12.628695Z",
     "shell.execute_reply": "2023-03-13T21:59:12.627819Z"
    },
    "papermill": {
     "duration": 0.021202,
     "end_time": "2023-03-13T21:59:12.630364",
     "exception": false,
     "start_time": "2023-03-13T21:59:12.609162",
     "status": "completed"
    },
    "tags": []
   },
   "outputs": [],
   "source": [
    "#Now we'll Balance the Dataset by removing the Extra 0s.\n",
    "\n",
    "Counter = 0\n",
    "IdxRemove = []\n",
    "for i in range(len(AllAsArray)):\n",
    "    if Targets[i] == 0:\n",
    "        Counter += 1\n",
    "    if Counter > TargetsOnes:\n",
    "        IdxRemove.append(i)\n",
    "        \n",
    "InputsBalanced = np.delete(Inputs, IdxRemove, axis = 0)\n",
    "TargetsBalanced = np.delete(Targets, IdxRemove, axis = 0)"
   ]
  },
  {
   "cell_type": "markdown",
   "id": "4aa7ef5f",
   "metadata": {
    "papermill": {
     "duration": 0.005947,
     "end_time": "2023-03-13T21:59:12.642492",
     "exception": false,
     "start_time": "2023-03-13T21:59:12.636545",
     "status": "completed"
    },
    "tags": []
   },
   "source": [
    "* **Standardizing the Inputs.**"
   ]
  },
  {
   "cell_type": "code",
   "execution_count": 8,
   "id": "bc1db779",
   "metadata": {
    "execution": {
     "iopub.execute_input": "2023-03-13T21:59:12.656051Z",
     "iopub.status.busy": "2023-03-13T21:59:12.655629Z",
     "iopub.status.idle": "2023-03-13T21:59:13.461449Z",
     "shell.execute_reply": "2023-03-13T21:59:13.460037Z"
    },
    "papermill": {
     "duration": 0.81559,
     "end_time": "2023-03-13T21:59:13.464306",
     "exception": false,
     "start_time": "2023-03-13T21:59:12.648716",
     "status": "completed"
    },
    "tags": []
   },
   "outputs": [],
   "source": [
    "from sklearn.preprocessing import scale as S\n",
    "\n",
    "ScaledInputs = S(InputsBalanced)"
   ]
  },
  {
   "cell_type": "markdown",
   "id": "5bdd89a2",
   "metadata": {
    "papermill": {
     "duration": 0.006133,
     "end_time": "2023-03-13T21:59:13.477304",
     "exception": false,
     "start_time": "2023-03-13T21:59:13.471171",
     "status": "completed"
    },
    "tags": []
   },
   "source": [
    "* **Shuffling the Data.**"
   ]
  },
  {
   "cell_type": "code",
   "execution_count": 9,
   "id": "3249e6f5",
   "metadata": {
    "execution": {
     "iopub.execute_input": "2023-03-13T21:59:13.491893Z",
     "iopub.status.busy": "2023-03-13T21:59:13.491497Z",
     "iopub.status.idle": "2023-03-13T21:59:13.497952Z",
     "shell.execute_reply": "2023-03-13T21:59:13.497056Z"
    },
    "papermill": {
     "duration": 0.016114,
     "end_time": "2023-03-13T21:59:13.499931",
     "exception": false,
     "start_time": "2023-03-13T21:59:13.483817",
     "status": "completed"
    },
    "tags": []
   },
   "outputs": [],
   "source": [
    "IdxShuffle = np.arange(len(ScaledInputs))\n",
    "np.random.shuffle(IdxShuffle)\n",
    "\n",
    "ShuffledInputs = ScaledInputs[IdxShuffle]\n",
    "ShuffledTargets = TargetsBalanced[IdxShuffle]"
   ]
  },
  {
   "cell_type": "markdown",
   "id": "20a61bcc",
   "metadata": {
    "papermill": {
     "duration": 0.006128,
     "end_time": "2023-03-13T21:59:13.512932",
     "exception": false,
     "start_time": "2023-03-13T21:59:13.506804",
     "status": "completed"
    },
    "tags": []
   },
   "source": [
    "* **Splitting the DataSet. (Train/Validation/Test)**"
   ]
  },
  {
   "cell_type": "code",
   "execution_count": 10,
   "id": "25cc5704",
   "metadata": {
    "execution": {
     "iopub.execute_input": "2023-03-13T21:59:13.527218Z",
     "iopub.status.busy": "2023-03-13T21:59:13.526646Z",
     "iopub.status.idle": "2023-03-13T21:59:13.532086Z",
     "shell.execute_reply": "2023-03-13T21:59:13.531427Z"
    },
    "papermill": {
     "duration": 0.014979,
     "end_time": "2023-03-13T21:59:13.534171",
     "exception": false,
     "start_time": "2023-03-13T21:59:13.519192",
     "status": "completed"
    },
    "tags": []
   },
   "outputs": [],
   "source": [
    "#The following can be done much quicker with train_test_split from sklearn.\n",
    "\n",
    "Samples = len(ShuffledInputs)\n",
    "\n",
    "#80/10/10 Split\n",
    "TrainSamples = int(0.8*Samples)\n",
    "ValTestSamples = int(0.1*Samples)\n",
    "\n",
    "TrainX = ShuffledInputs[:TrainSamples]\n",
    "TrainY = ShuffledTargets[:TrainSamples]\n",
    "\n",
    "ValX = ShuffledInputs[TrainSamples:TrainSamples+ValTestSamples]\n",
    "ValY = ShuffledTargets[TrainSamples:TrainSamples+ValTestSamples]\n",
    "\n",
    "TestX = ShuffledInputs[TrainSamples+ValTestSamples:]\n",
    "TestY = ShuffledTargets[TrainSamples+ValTestSamples:]"
   ]
  },
  {
   "cell_type": "markdown",
   "id": "03e43694",
   "metadata": {
    "papermill": {
     "duration": 0.00591,
     "end_time": "2023-03-13T21:59:13.546811",
     "exception": false,
     "start_time": "2023-03-13T21:59:13.540901",
     "status": "completed"
    },
    "tags": []
   },
   "source": [
    "* **Saving the Data in Tensor Format.**"
   ]
  },
  {
   "cell_type": "code",
   "execution_count": 11,
   "id": "9704e641",
   "metadata": {
    "execution": {
     "iopub.execute_input": "2023-03-13T21:59:13.561141Z",
     "iopub.status.busy": "2023-03-13T21:59:13.560568Z",
     "iopub.status.idle": "2023-03-13T21:59:13.566227Z",
     "shell.execute_reply": "2023-03-13T21:59:13.565635Z"
    },
    "papermill": {
     "duration": 0.014925,
     "end_time": "2023-03-13T21:59:13.567912",
     "exception": false,
     "start_time": "2023-03-13T21:59:13.552987",
     "status": "completed"
    },
    "tags": []
   },
   "outputs": [],
   "source": [
    "np.savez(\"AudiobooksTrain\", Inputs = TrainX, Targets = TrainY)\n",
    "np.savez(\"AudiobooksVal\", Inputs = ValX, Targets = ValY)\n",
    "np.savez(\"AudiobooksTest\", Inputs = TestX, Targets = TestY)"
   ]
  },
  {
   "cell_type": "markdown",
   "id": "6fd2b682",
   "metadata": {
    "papermill": {
     "duration": 0.00605,
     "end_time": "2023-03-13T21:59:13.580373",
     "exception": false,
     "start_time": "2023-03-13T21:59:13.574323",
     "status": "completed"
    },
    "tags": []
   },
   "source": [
    "# Modeling"
   ]
  },
  {
   "cell_type": "code",
   "execution_count": 12,
   "id": "e824281f",
   "metadata": {
    "execution": {
     "iopub.execute_input": "2023-03-13T21:59:13.595020Z",
     "iopub.status.busy": "2023-03-13T21:59:13.594410Z",
     "iopub.status.idle": "2023-03-13T21:59:13.600410Z",
     "shell.execute_reply": "2023-03-13T21:59:13.598800Z"
    },
    "papermill": {
     "duration": 0.016319,
     "end_time": "2023-03-13T21:59:13.603019",
     "exception": false,
     "start_time": "2023-03-13T21:59:13.586700",
     "status": "completed"
    },
    "tags": []
   },
   "outputs": [
    {
     "name": "stdout",
     "output_type": "stream",
     "text": [
      "/kaggle/working/AudiobooksVal.npz\n",
      "/kaggle/working/__notebook__.ipynb\n",
      "/kaggle/working/AudiobooksTrain.npz\n",
      "/kaggle/working/AudiobooksTest.npz\n"
     ]
    }
   ],
   "source": [
    "import os\n",
    "for dirname, _, filenames in os.walk('/kaggle/working'):\n",
    "    for filename in filenames:\n",
    "        print(os.path.join(dirname, filename))"
   ]
  },
  {
   "cell_type": "markdown",
   "id": "997c97de",
   "metadata": {
    "papermill": {
     "duration": 0.006013,
     "end_time": "2023-03-13T21:59:13.615725",
     "exception": false,
     "start_time": "2023-03-13T21:59:13.609712",
     "status": "completed"
    },
    "tags": []
   },
   "source": [
    "* **Loading the Data.**"
   ]
  },
  {
   "cell_type": "code",
   "execution_count": 13,
   "id": "a30411db",
   "metadata": {
    "execution": {
     "iopub.execute_input": "2023-03-13T21:59:13.629805Z",
     "iopub.status.busy": "2023-03-13T21:59:13.629385Z",
     "iopub.status.idle": "2023-03-13T21:59:13.641631Z",
     "shell.execute_reply": "2023-03-13T21:59:13.640699Z"
    },
    "papermill": {
     "duration": 0.021553,
     "end_time": "2023-03-13T21:59:13.643494",
     "exception": false,
     "start_time": "2023-03-13T21:59:13.621941",
     "status": "completed"
    },
    "tags": []
   },
   "outputs": [],
   "source": [
    "#Can be done also by:\n",
    "\n",
    "#Inputs, Targets = np.load(...), np.load(...)\n",
    "\n",
    "#Below, a more Organized Way.\n",
    "\n",
    "TrainInputs = np.load(\"AudiobooksTrain.npz\")[\"Inputs\"].astype(np.float_) #Ensuring Values are Float Type.\n",
    "TrainTargets = np.load(\"AudiobooksTrain.npz\")[\"Targets\"].astype(np.float_)\n",
    "\n",
    "ValInputs = np.load(\"AudiobooksVal.npz\")[\"Inputs\"].astype(np.float_)\n",
    "ValTargets = np.load(\"AudiobooksVal.npz\")[\"Targets\"].astype(np.float_)\n",
    "\n",
    "TestInputs = np.load(\"AudiobooksTest.npz\")[\"Inputs\"].astype(np.float_)\n",
    "TestTargets = np.load(\"AudiobooksTest.npz\")[\"Targets\"].astype(np.float_)"
   ]
  },
  {
   "cell_type": "markdown",
   "id": "71ca4ab4",
   "metadata": {
    "papermill": {
     "duration": 0.005966,
     "end_time": "2023-03-13T21:59:13.656205",
     "exception": false,
     "start_time": "2023-03-13T21:59:13.650239",
     "status": "completed"
    },
    "tags": []
   },
   "source": [
    "* **Defining the Model.**"
   ]
  },
  {
   "cell_type": "code",
   "execution_count": 14,
   "id": "d54effcb",
   "metadata": {
    "execution": {
     "iopub.execute_input": "2023-03-13T21:59:13.670137Z",
     "iopub.status.busy": "2023-03-13T21:59:13.669852Z",
     "iopub.status.idle": "2023-03-13T21:59:21.011436Z",
     "shell.execute_reply": "2023-03-13T21:59:21.010417Z"
    },
    "papermill": {
     "duration": 7.351502,
     "end_time": "2023-03-13T21:59:21.013950",
     "exception": false,
     "start_time": "2023-03-13T21:59:13.662448",
     "status": "completed"
    },
    "tags": []
   },
   "outputs": [],
   "source": [
    "import tensorflow as tf\n",
    "\n",
    "InputLayerSize = 10\n",
    "OutputLayerSize = 2\n",
    "HiddenLayersSize = 50\n",
    "\n",
    "#Defining the Model.\n",
    "Model = tf.keras.Sequential([\n",
    "                            #Dense Takes the Inputs and Calculates the Dot Product of the Inputs and Weights and adds the Bias.\n",
    "                            #This is where we can apply the Activation Function.\n",
    "                            #The Process is done Twice since we will have 2 Hidden Layers of the same Size with the same Activation Function.\n",
    "                            tf.keras.layers.Dense(HiddenLayersSize, activation = \"relu\"),\n",
    "                            tf.keras.layers.Dense(HiddenLayersSize, activation = \"relu\"),\n",
    "                            #Defining the Output Layer that will use SoftMax Activation Function and will have size 10.\n",
    "                            #SoftMax is used to turn Values into Probabilities.\n",
    "                            tf.keras.layers.Dense(OutputLayerSize, activation = \"softmax\"),\n",
    "                            ])\n",
    "\n",
    "#Setting the Optimizer and the Loss Function.\n",
    "#We'll use the SparseCategoricalCrossEntropy Loss Function, since it applies One Hot Encoding to our Outputs.\n",
    "Model.compile(optimizer = \"adam\", loss = \"sparse_categorical_crossentropy\", metrics = [\"accuracy\"])"
   ]
  },
  {
   "cell_type": "code",
   "execution_count": 15,
   "id": "c6263bfc",
   "metadata": {
    "execution": {
     "iopub.execute_input": "2023-03-13T21:59:21.029000Z",
     "iopub.status.busy": "2023-03-13T21:59:21.028690Z",
     "iopub.status.idle": "2023-03-13T21:59:23.925558Z",
     "shell.execute_reply": "2023-03-13T21:59:23.924105Z"
    },
    "papermill": {
     "duration": 2.908137,
     "end_time": "2023-03-13T21:59:23.928984",
     "exception": false,
     "start_time": "2023-03-13T21:59:21.020847",
     "status": "completed"
    },
    "tags": []
   },
   "outputs": [
    {
     "name": "stdout",
     "output_type": "stream",
     "text": [
      "Epoch 1/100\n",
      "36/36 - 1s - loss: 0.5861 - accuracy: 0.7332 - val_loss: 0.4613 - val_accuracy: 0.8523 - 1s/epoch - 32ms/step\n",
      "Epoch 2/100\n",
      "36/36 - 0s - loss: 0.3788 - accuracy: 0.8731 - val_loss: 0.3553 - val_accuracy: 0.8635 - 78ms/epoch - 2ms/step\n",
      "Epoch 3/100\n",
      "36/36 - 0s - loss: 0.3121 - accuracy: 0.8849 - val_loss: 0.3296 - val_accuracy: 0.8680 - 79ms/epoch - 2ms/step\n",
      "Epoch 4/100\n",
      "36/36 - 0s - loss: 0.2949 - accuracy: 0.8885 - val_loss: 0.3193 - val_accuracy: 0.8770 - 76ms/epoch - 2ms/step\n",
      "Epoch 5/100\n",
      "36/36 - 0s - loss: 0.2825 - accuracy: 0.8924 - val_loss: 0.3060 - val_accuracy: 0.8814 - 79ms/epoch - 2ms/step\n",
      "Epoch 6/100\n",
      "36/36 - 0s - loss: 0.2728 - accuracy: 0.8952 - val_loss: 0.3005 - val_accuracy: 0.8792 - 79ms/epoch - 2ms/step\n",
      "Epoch 7/100\n",
      "36/36 - 0s - loss: 0.2639 - accuracy: 0.9014 - val_loss: 0.2940 - val_accuracy: 0.8859 - 74ms/epoch - 2ms/step\n",
      "Epoch 8/100\n",
      "36/36 - 0s - loss: 0.2597 - accuracy: 0.9011 - val_loss: 0.2973 - val_accuracy: 0.8859 - 77ms/epoch - 2ms/step\n",
      "Epoch 9/100\n",
      "36/36 - 0s - loss: 0.2533 - accuracy: 0.9030 - val_loss: 0.2904 - val_accuracy: 0.8926 - 78ms/epoch - 2ms/step\n",
      "Epoch 10/100\n",
      "36/36 - 0s - loss: 0.2500 - accuracy: 0.9067 - val_loss: 0.2816 - val_accuracy: 0.8859 - 76ms/epoch - 2ms/step\n",
      "Epoch 11/100\n",
      "36/36 - 0s - loss: 0.2468 - accuracy: 0.9056 - val_loss: 0.2856 - val_accuracy: 0.8881 - 78ms/epoch - 2ms/step\n",
      "Epoch 12/100\n",
      "36/36 - 0s - loss: 0.2432 - accuracy: 0.9089 - val_loss: 0.2811 - val_accuracy: 0.8859 - 81ms/epoch - 2ms/step\n",
      "Epoch 13/100\n",
      "36/36 - 0s - loss: 0.2413 - accuracy: 0.9100 - val_loss: 0.2789 - val_accuracy: 0.8926 - 88ms/epoch - 2ms/step\n",
      "Epoch 14/100\n",
      "36/36 - 0s - loss: 0.2382 - accuracy: 0.9131 - val_loss: 0.2786 - val_accuracy: 0.8926 - 73ms/epoch - 2ms/step\n",
      "Epoch 15/100\n",
      "36/36 - 0s - loss: 0.2370 - accuracy: 0.9109 - val_loss: 0.2740 - val_accuracy: 0.8926 - 81ms/epoch - 2ms/step\n",
      "Epoch 16/100\n",
      "36/36 - 0s - loss: 0.2358 - accuracy: 0.9114 - val_loss: 0.2808 - val_accuracy: 0.8971 - 93ms/epoch - 3ms/step\n",
      "Epoch 17/100\n",
      "36/36 - 0s - loss: 0.2330 - accuracy: 0.9134 - val_loss: 0.2719 - val_accuracy: 0.8949 - 80ms/epoch - 2ms/step\n",
      "Epoch 18/100\n",
      "36/36 - 0s - loss: 0.2316 - accuracy: 0.9134 - val_loss: 0.2770 - val_accuracy: 0.8993 - 76ms/epoch - 2ms/step\n",
      "Epoch 19/100\n",
      "36/36 - 0s - loss: 0.2314 - accuracy: 0.9137 - val_loss: 0.2727 - val_accuracy: 0.8993 - 89ms/epoch - 2ms/step\n",
      "Epoch 20/100\n",
      "36/36 - 0s - loss: 0.2302 - accuracy: 0.9151 - val_loss: 0.2761 - val_accuracy: 0.8926 - 76ms/epoch - 2ms/step\n"
     ]
    },
    {
     "data": {
      "text/plain": [
       "<keras.callbacks.History at 0x7fe8292c40d0>"
      ]
     },
     "execution_count": 15,
     "metadata": {},
     "output_type": "execute_result"
    }
   ],
   "source": [
    "BatchSize = 100\n",
    "Epochs = 100\n",
    "\n",
    "#Defining the Early Stopping Mechanism for when the Validation Loss starts Increasing, by Default it stops as soon as it Inreases.\n",
    "#With \"Patience\" attribute we can set the Number of Epochs of Tolerance from Early Stopping.\n",
    "EarlyStopping = tf.keras.callbacks.EarlyStopping(patience = 3)\n",
    "\n",
    "#When using Arrays insted of Tensors, Batching is automatically done by TensorFlow by specifying the Batch Size in the Fit Method.\n",
    "Model.fit(TrainInputs, TrainTargets, batch_size = BatchSize, epochs = Epochs, validation_data = (ValInputs, ValTargets), callbacks = [EarlyStopping] , verbose = 2)"
   ]
  },
  {
   "cell_type": "markdown",
   "id": "3b2a6bfe",
   "metadata": {
    "papermill": {
     "duration": 0.009277,
     "end_time": "2023-03-13T21:59:23.947716",
     "exception": false,
     "start_time": "2023-03-13T21:59:23.938439",
     "status": "completed"
    },
    "tags": []
   },
   "source": [
    "* **Testing the Model.**"
   ]
  },
  {
   "cell_type": "code",
   "execution_count": 16,
   "id": "bc7fcf14",
   "metadata": {
    "execution": {
     "iopub.execute_input": "2023-03-13T21:59:23.967884Z",
     "iopub.status.busy": "2023-03-13T21:59:23.967491Z",
     "iopub.status.idle": "2023-03-13T21:59:24.087243Z",
     "shell.execute_reply": "2023-03-13T21:59:24.086392Z"
    },
    "papermill": {
     "duration": 0.13249,
     "end_time": "2023-03-13T21:59:24.089676",
     "exception": false,
     "start_time": "2023-03-13T21:59:23.957186",
     "status": "completed"
    },
    "tags": []
   },
   "outputs": [
    {
     "name": "stdout",
     "output_type": "stream",
     "text": [
      "14/14 [==============================] - 0s 2ms/step - loss: 0.2543 - accuracy: 0.8996\n"
     ]
    }
   ],
   "source": [
    "Loss, Accuracy = Model.evaluate(TestInputs, TestTargets)"
   ]
  },
  {
   "cell_type": "code",
   "execution_count": null,
   "id": "191a69c6",
   "metadata": {
    "papermill": {
     "duration": 0.008523,
     "end_time": "2023-03-13T21:59:24.107658",
     "exception": false,
     "start_time": "2023-03-13T21:59:24.099135",
     "status": "completed"
    },
    "tags": []
   },
   "outputs": [],
   "source": []
  }
 ],
 "metadata": {
  "kernelspec": {
   "display_name": "Python 3",
   "language": "python",
   "name": "python3"
  },
  "language_info": {
   "codemirror_mode": {
    "name": "ipython",
    "version": 3
   },
   "file_extension": ".py",
   "mimetype": "text/x-python",
   "name": "python",
   "nbconvert_exporter": "python",
   "pygments_lexer": "ipython3",
   "version": "3.7.12"
  },
  "papermill": {
   "default_parameters": {},
   "duration": 23.334682,
   "end_time": "2023-03-13T21:59:27.535553",
   "environment_variables": {},
   "exception": null,
   "input_path": "__notebook__.ipynb",
   "output_path": "__notebook__.ipynb",
   "parameters": {},
   "start_time": "2023-03-13T21:59:04.200871",
   "version": "2.4.0"
  }
 },
 "nbformat": 4,
 "nbformat_minor": 5
}
